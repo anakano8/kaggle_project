{
 "cells": [
  {
   "cell_type": "markdown",
   "metadata": {
    "_cell_guid": "79c7e3d0-c299-4dcb-8224-4455121ee9b0",
    "_uuid": "d629ff2d2480ee46fbb7e2d37f6b5fab8052498a"
   },
   "source": [
    "# Predicting Survival  on Titanic Disaster"
   ]
  },
  {
   "cell_type": "markdown",
   "metadata": {},
   "source": [
    "## Import Necessary Libraries "
   ]
  },
  {
   "cell_type": "code",
   "execution_count": null,
   "metadata": {},
   "outputs": [],
   "source": [
    "import numpy as np\n",
    "import pandas as pd\n",
    "import seaborn as sns\n",
    "import scipy as sp\n",
    "sns.set()\n",
    "from matplotlib import pyplot as plt\n",
    "from sklearn.preprocessing import LabelEncoder\n",
    "from sklearn.preprocessing import OneHotEncoder\n",
    "from xgboost import XGBClassifier\n",
    "from sklearn.metrics import log_loss, accuracy_score\n",
    "from sklearn.model_selection import KFold\n",
    "import itertools\n",
    "from sklearn.linear_model import LogisticRegression"
   ]
  },
  {
   "cell_type": "markdown",
   "metadata": {},
   "source": [
    "## Reading and Cleaning the  Data"
   ]
  },
  {
   "cell_type": "code",
   "execution_count": 2,
   "metadata": {},
   "outputs": [],
   "source": [
    "# Load training and test data\n",
    "train = pd.read_csv('../input/titanic/train.csv')\n",
    "test = pd.read_csv('../input/titanic/test.csv')\n",
    "\n",
    "# Separate response variable and explanatory variable\n",
    "train_x = train.drop(['Survived'], axis=1)\n",
    "train_y = train['Survived']\n",
    "\n",
    "# Copy test data which only contains explanatory variable\n",
    "test_x = test.copy()"
   ]
  },
  {
   "cell_type": "code",
   "execution_count": 3,
   "metadata": {},
   "outputs": [],
   "source": [
    "# Remove 'PassengerId' - not required for prediction\n",
    "train_x = train_x.drop(['PassengerId'], axis=1)\n",
    "test_x = test_x.drop(['PassengerId'], axis=1)\n",
    "\n",
    "# Remove other variables not used for prediction\n",
    "train_x = train_x.drop(['Name', 'Ticket', 'Cabin'], axis=1)\n",
    "test_x = test_x.drop(['Name', 'Ticket', 'Cabin'], axis=1)\n",
    "\n",
    "# Label encode categorical variables\n",
    "for cat_col in ['Sex', 'Embarked']:\n",
    "    # Determine how to Label Encode base don trainig data\n",
    "    le = LabelEncoder()\n",
    "    le.fit(train_x[cat_col].fillna('NA'))\n",
    "    \n",
    "    # Transform the training and testing data\n",
    "    train_x[cat_col] = le.transform(train[cat_col].fillna('NA'))\n",
    "    test_x[cat_col] = le.transform(test[cat_col].fillna('NA'))"
   ]
  },
  {
   "cell_type": "code",
   "execution_count": 4,
   "metadata": {},
   "outputs": [
    {
     "name": "stdout",
     "output_type": "stream",
     "text": [
      "logloss: 0.5611, accuracy: 0.797959\n"
     ]
    }
   ],
   "source": [
    "# List to store k-fold scores\n",
    "scores_accuracy = []\n",
    "scores_logloss = []\n",
    "\n",
    "# Apply cross-validation\n",
    "# Apply k-fold by breaking training data into 4 blocks\n",
    "kf = KFold(n_splits=4, shuffle=True, random_state=71)\n",
    "for tr_idx, va_idx in kf.split(train_x):\n",
    "    # Separate train_x into training data and validation data\n",
    "    tr_x, va_x = train_x.iloc[tr_idx], train_x.iloc[va_idx]\n",
    "    tr_y, va_y = train_y.iloc[tr_idx], train_y.iloc[va_idx]\n",
    "    \n",
    "    #Apply machine learning model\n",
    "    model = XGBClassifier(eta=0.05, n_estimators=999,early_stopping_rounds=200, random_state=71)\n",
    "    model.fit(tr_x, tr_y)\n",
    "    \n",
    "    # Use model to predict outcome on validation data\n",
    "    va_pred = model.predict_proba(va_x)[:,1]\n",
    "    \n",
    "    # Calculate scores for predictions\n",
    "    logloss = log_loss(va_y, va_pred)\n",
    "    accuracy = accuracy_score(va_y, va_pred > 0.5)\n",
    "    \n",
    "    # Save scores in table\n",
    "    scores_logloss.append(logloss)\n",
    "    scores_accuracy.append(accuracy)\n",
    "\n",
    "# Calculate average of each k-fold score\n",
    "logloss = np.mean(scores_logloss)\n",
    "accuracy = np.mean(scores_accuracy)\n",
    "print(f'logloss: {logloss:.4f}, accuracy: {accuracy:4f}')"
   ]
  },
  {
   "cell_type": "markdown",
   "metadata": {},
   "source": [
    "## Hyperparameter Optimization for XGBClassifier Model"
   ]
  },
  {
   "cell_type": "code",
   "execution_count": 5,
   "metadata": {},
   "outputs": [
    {
     "name": "stdout",
     "output_type": "stream",
     "text": [
      "max_depth: 5, min_child_weight: 2.0, gamma: 0.4, alpha: 1.0\n"
     ]
    }
   ],
   "source": [
    "# Prepare tuning parameters\n",
    "param_space = {\n",
    "    'max_depth': [3, 5, 7, 9],\n",
    "    'min_child_weight': [1.0, 2.0, 4.0],\n",
    "    'gamma': [0.0, 0.1, 0.2, 0.3, 0.4],\n",
    "    'alpha': [1e-5, 1e-2, 0.1, 1.0, 100.0]\n",
    "    \n",
    "}\n",
    "\n",
    "# Hyperparameter combinations to search\n",
    "param_combinations = itertools.product(param_space['max_depth'], param_space['min_child_weight'],\n",
    "                                      param_space['gamma'], param_space['alpha'])\n",
    "\n",
    "# List to store scores for each combiantion of hyperparameters\n",
    "params = []\n",
    "scores = []\n",
    "\n",
    "for max_depth, min_child_weight, gamma, alpha in param_combinations:\n",
    "    score_folds = []\n",
    "    \n",
    "    # Apply cross-validation for k=4\n",
    "    kf = KFold(n_splits=4, shuffle=True, random_state=123456)\n",
    "    for tr_idx, va_idx in kf.split(train_x):\n",
    "        # split train_x to training and validation data\n",
    "        tr_x, va_x = train_x.iloc[tr_idx], train_x.iloc[va_idx]\n",
    "        tr_y, va_y = train_y.iloc[tr_idx], train_y.iloc[va_idx]\n",
    "    \n",
    "    # Train model\n",
    "    model = XGBClassifier(eta=0.05, n_estimators=999,early_stopping_rounds=200, random_state=71,\n",
    "                         max_depth=max_depth, min_child_weight=min_child_weight, gamma=gamma, alpha=alpha)\n",
    "    \n",
    "    model.fit(tr_x, tr_y)\n",
    "    \n",
    "    # Calculate scores for validation data and store in table\n",
    "    va_pred = model.predict_proba(va_x)[:, 1]\n",
    "    logloss = log_loss(va_y, va_pred)\n",
    "    score_folds.append(logloss)\n",
    "    \n",
    "    # Average scores for each k-folds\n",
    "    score_mean = np.mean(score_folds)\n",
    "    \n",
    "    #store scores for each parameter combinations\n",
    "    params.append((max_depth, min_child_weight, gamma, alpha))\n",
    "    scores.append(score_mean)\n",
    "\n",
    "# Determine parameter with best score\n",
    "best_idx = np.argsort(scores)[0]\n",
    "best_param = params[best_idx]\n",
    "print(f'max_depth: {best_param[0]}, min_child_weight: {best_param[1]}, gamma: {best_param[2]}, alpha: {best_param[3]}')"
   ]
  },
  {
   "cell_type": "code",
   "execution_count": 6,
   "metadata": {},
   "outputs": [],
   "source": [
    "# Create GBDT model and supply training data\n",
    "model = XGBClassifier(early_stopping_rounds=200, n_estimators=999, random_state=71, min_child_weight=2.0, \n",
    "                      max_depth=5, gamma=0.4, alpha=1.0)\n",
    "model.fit(train_x, train_y)\n",
    "\n",
    "# Run model on test data and ouput probabilities\n",
    "pred = model.predict_proba(test_x)[:, 1]\n",
    "\n",
    "# Convert probabilities from model predictions to binary values(0, 1)\n",
    "pred_label = np.where(pred > 0.5, 1, 0)"
   ]
  },
  {
   "cell_type": "markdown",
   "metadata": {},
   "source": [
    "## Logistic Regression Model "
   ]
  },
  {
   "cell_type": "code",
   "execution_count": 7,
   "metadata": {},
   "outputs": [],
   "source": [
    "# Separate response variable and explanatory variable\n",
    "train_x_logi = train.drop(['Survived'], axis=1)\n",
    "test_x_logi = test.copy()"
   ]
  },
  {
   "cell_type": "code",
   "execution_count": 8,
   "metadata": {},
   "outputs": [
    {
     "data": {
      "text/html": [
       "<div>\n",
       "<style scoped>\n",
       "    .dataframe tbody tr th:only-of-type {\n",
       "        vertical-align: middle;\n",
       "    }\n",
       "\n",
       "    .dataframe tbody tr th {\n",
       "        vertical-align: top;\n",
       "    }\n",
       "\n",
       "    .dataframe thead th {\n",
       "        text-align: right;\n",
       "    }\n",
       "</style>\n",
       "<table border=\"1\" class=\"dataframe\">\n",
       "  <thead>\n",
       "    <tr style=\"text-align: right;\">\n",
       "      <th></th>\n",
       "      <th>PassengerId</th>\n",
       "      <th>Pclass</th>\n",
       "      <th>Name</th>\n",
       "      <th>Sex</th>\n",
       "      <th>Age</th>\n",
       "      <th>SibSp</th>\n",
       "      <th>Parch</th>\n",
       "      <th>Ticket</th>\n",
       "      <th>Fare</th>\n",
       "      <th>Cabin</th>\n",
       "      <th>Embarked</th>\n",
       "    </tr>\n",
       "  </thead>\n",
       "  <tbody>\n",
       "    <tr>\n",
       "      <th>0</th>\n",
       "      <td>1</td>\n",
       "      <td>3</td>\n",
       "      <td>Braund, Mr. Owen Harris</td>\n",
       "      <td>male</td>\n",
       "      <td>22.0</td>\n",
       "      <td>1</td>\n",
       "      <td>0</td>\n",
       "      <td>A/5 21171</td>\n",
       "      <td>7.2500</td>\n",
       "      <td>NaN</td>\n",
       "      <td>S</td>\n",
       "    </tr>\n",
       "    <tr>\n",
       "      <th>1</th>\n",
       "      <td>2</td>\n",
       "      <td>1</td>\n",
       "      <td>Cumings, Mrs. John Bradley (Florence Briggs Th...</td>\n",
       "      <td>female</td>\n",
       "      <td>38.0</td>\n",
       "      <td>1</td>\n",
       "      <td>0</td>\n",
       "      <td>PC 17599</td>\n",
       "      <td>71.2833</td>\n",
       "      <td>C85</td>\n",
       "      <td>C</td>\n",
       "    </tr>\n",
       "    <tr>\n",
       "      <th>2</th>\n",
       "      <td>3</td>\n",
       "      <td>3</td>\n",
       "      <td>Heikkinen, Miss. Laina</td>\n",
       "      <td>female</td>\n",
       "      <td>26.0</td>\n",
       "      <td>0</td>\n",
       "      <td>0</td>\n",
       "      <td>STON/O2. 3101282</td>\n",
       "      <td>7.9250</td>\n",
       "      <td>NaN</td>\n",
       "      <td>S</td>\n",
       "    </tr>\n",
       "    <tr>\n",
       "      <th>3</th>\n",
       "      <td>4</td>\n",
       "      <td>1</td>\n",
       "      <td>Futrelle, Mrs. Jacques Heath (Lily May Peel)</td>\n",
       "      <td>female</td>\n",
       "      <td>35.0</td>\n",
       "      <td>1</td>\n",
       "      <td>0</td>\n",
       "      <td>113803</td>\n",
       "      <td>53.1000</td>\n",
       "      <td>C123</td>\n",
       "      <td>S</td>\n",
       "    </tr>\n",
       "    <tr>\n",
       "      <th>4</th>\n",
       "      <td>5</td>\n",
       "      <td>3</td>\n",
       "      <td>Allen, Mr. William Henry</td>\n",
       "      <td>male</td>\n",
       "      <td>35.0</td>\n",
       "      <td>0</td>\n",
       "      <td>0</td>\n",
       "      <td>373450</td>\n",
       "      <td>8.0500</td>\n",
       "      <td>NaN</td>\n",
       "      <td>S</td>\n",
       "    </tr>\n",
       "  </tbody>\n",
       "</table>\n",
       "</div>"
      ],
      "text/plain": [
       "   PassengerId  Pclass                                               Name  \\\n",
       "0            1       3                            Braund, Mr. Owen Harris   \n",
       "1            2       1  Cumings, Mrs. John Bradley (Florence Briggs Th...   \n",
       "2            3       3                             Heikkinen, Miss. Laina   \n",
       "3            4       1       Futrelle, Mrs. Jacques Heath (Lily May Peel)   \n",
       "4            5       3                           Allen, Mr. William Henry   \n",
       "\n",
       "      Sex   Age  SibSp  Parch            Ticket     Fare Cabin Embarked  \n",
       "0    male  22.0      1      0         A/5 21171   7.2500   NaN        S  \n",
       "1  female  38.0      1      0          PC 17599  71.2833   C85        C  \n",
       "2  female  26.0      0      0  STON/O2. 3101282   7.9250   NaN        S  \n",
       "3  female  35.0      1      0            113803  53.1000  C123        S  \n",
       "4    male  35.0      0      0            373450   8.0500   NaN        S  "
      ]
     },
     "execution_count": 8,
     "metadata": {},
     "output_type": "execute_result"
    }
   ],
   "source": [
    "train_x_logi.head()"
   ]
  },
  {
   "cell_type": "code",
   "execution_count": 9,
   "metadata": {},
   "outputs": [],
   "source": [
    "train_x_logi.drop([\"PassengerId\", \"Name\", \"Ticket\", \"Cabin\"], axis=1, inplace=True)\n",
    "test_x_logi.drop([\"PassengerId\", \"Name\", \"Ticket\", \"Cabin\"], axis=1, inplace=True)"
   ]
  },
  {
   "cell_type": "code",
   "execution_count": 10,
   "metadata": {},
   "outputs": [
    {
     "data": {
      "text/plain": [
       "Pclass        0\n",
       "Sex           0\n",
       "Age         177\n",
       "SibSp         0\n",
       "Parch         0\n",
       "Fare          0\n",
       "Embarked      2\n",
       "dtype: int64"
      ]
     },
     "execution_count": 10,
     "metadata": {},
     "output_type": "execute_result"
    }
   ],
   "source": [
    "train_x_logi.isnull().sum()"
   ]
  },
  {
   "cell_type": "code",
   "execution_count": 11,
   "metadata": {},
   "outputs": [
    {
     "data": {
      "text/plain": [
       "Pclass       0\n",
       "Sex          0\n",
       "Age         86\n",
       "SibSp        0\n",
       "Parch        0\n",
       "Fare         1\n",
       "Embarked     0\n",
       "dtype: int64"
      ]
     },
     "execution_count": 11,
     "metadata": {},
     "output_type": "execute_result"
    }
   ],
   "source": [
    "test_x_logi.isnull().sum()"
   ]
  },
  {
   "cell_type": "code",
   "execution_count": 12,
   "metadata": {},
   "outputs": [
    {
     "name": "stdout",
     "output_type": "stream",
     "text": [
      "Pclass      False\n",
      "Sex          True\n",
      "Age         False\n",
      "SibSp       False\n",
      "Parch       False\n",
      "Fare        False\n",
      "Embarked     True\n",
      "dtype: bool\n"
     ]
    }
   ],
   "source": [
    "# Determine categorical predictors other than \"Pclass\"\n",
    "c1 = train_x_logi.dtypes == \"object\"\n",
    "print(c1)"
   ]
  },
  {
   "cell_type": "code",
   "execution_count": 13,
   "metadata": {},
   "outputs": [],
   "source": [
    "# One Hot Encode the categorical variables\n",
    "cat_cols = [\"Sex\", \"Embarked\", \"Pclass\"]\n",
    "ohe = OneHotEncoder(categories=\"auto\", sparse=False)\n",
    "ohe.fit(train_x_logi[cat_cols].fillna(\"NA\"))\n",
    "\n",
    "ohe_columns=[]\n",
    "for i, c in enumerate(cat_cols):\n",
    "    ohe_columns += [f'{c}_{v}' for v in ohe.categories_[i]]\n",
    "\n",
    "ohe_train_x_logi = pd.DataFrame(ohe.transform(train_x_logi[cat_cols].fillna('NA')), columns=ohe_columns)\n",
    "ohe_test_x_logi = pd.DataFrame(ohe.transform(test_x_logi[cat_cols].fillna('NA')), columns=ohe_columns)\n",
    "\n",
    "# Drop one-hot encoded predictors\n",
    "train_x_logi = train_x_logi.drop(cat_cols, axis=1)\n",
    "test_x_logi = test_x_logi.drop(cat_cols, axis=1)\n",
    "\n",
    "# concatenate one-hot encoded predictors to original table\n",
    "train_x_logi = pd.concat([train_x_logi, ohe_train_x_logi], axis=1)\n",
    "test_x_logi = pd.concat([test_x_logi, ohe_test_x_logi], axis=1)"
   ]
  },
  {
   "cell_type": "code",
   "execution_count": 14,
   "metadata": {},
   "outputs": [
    {
     "data": {
      "text/plain": [
       "Age            177\n",
       "SibSp            0\n",
       "Parch            0\n",
       "Fare             0\n",
       "Sex_female       0\n",
       "Sex_male         0\n",
       "Embarked_C       0\n",
       "Embarked_NA      0\n",
       "Embarked_Q       0\n",
       "Embarked_S       0\n",
       "Pclass_1         0\n",
       "Pclass_2         0\n",
       "Pclass_3         0\n",
       "dtype: int64"
      ]
     },
     "execution_count": 14,
     "metadata": {},
     "output_type": "execute_result"
    }
   ],
   "source": [
    "train_x_logi.isnull().sum()"
   ]
  },
  {
   "cell_type": "code",
   "execution_count": 15,
   "metadata": {},
   "outputs": [
    {
     "data": {
      "text/plain": [
       "Age            86\n",
       "SibSp           0\n",
       "Parch           0\n",
       "Fare            1\n",
       "Sex_female      0\n",
       "Sex_male        0\n",
       "Embarked_C      0\n",
       "Embarked_NA     0\n",
       "Embarked_Q      0\n",
       "Embarked_S      0\n",
       "Pclass_1        0\n",
       "Pclass_2        0\n",
       "Pclass_3        0\n",
       "dtype: int64"
      ]
     },
     "execution_count": 15,
     "metadata": {},
     "output_type": "execute_result"
    }
   ],
   "source": [
    "test_x_logi.isnull().sum()"
   ]
  },
  {
   "cell_type": "code",
   "execution_count": 16,
   "metadata": {},
   "outputs": [
    {
     "name": "stdout",
     "output_type": "stream",
     "text": [
      "Percent of missing \"Age\" records is 19.87%\n"
     ]
    }
   ],
   "source": [
    "# percent of missing \"Age\" \n",
    "print('Percent of missing \"Age\" records is %.2f%%' %((train_x_logi['Age'].isnull().sum()/train_x_logi.shape[0])*100))\n",
    "# Since only 20% entries are missing, good idea to fill Nan entries with some value"
   ]
  },
  {
   "cell_type": "code",
   "execution_count": 17,
   "metadata": {},
   "outputs": [
    {
     "data": {
      "image/png": "[encoded data removed]",
      "text/plain": [
       "<Figure size 432x288 with 1 Axes>"
      ]
     },
     "metadata": {},
     "output_type": "display_data"
    }
   ],
   "source": [
    "# plot histogram of age to determine its distribution\n",
    "ax = train_x_logi[\"Age\"].hist(bins=15, density=True, stacked=True, color='teal', alpha=0.6)\n",
    "train_x_logi[\"Age\"].plot(kind='density', color='teal')\n",
    "ax.set(xlabel='Age')\n",
    "plt.xlim(-10,85)\n",
    "plt.show()\n",
    "# Since age distribution is right skewed, use median instead of mean to fill missing values"
   ]
  },
  {
   "cell_type": "code",
   "execution_count": 18,
   "metadata": {},
   "outputs": [
    {
     "data": {
      "image/png": "[encoded data removed]",
      "text/plain": [
       "<Figure size 432x288 with 1 Axes>"
      ]
     },
     "metadata": {},
     "output_type": "display_data"
    }
   ],
   "source": [
    "# plot histogram of age to determine its distribution\n",
    "fx = train_x_logi[\"Fare\"].hist(bins=15, density=True, stacked=True, color='teal', alpha=0.6)\n",
    "train_x_logi[\"Fare\"].plot(kind='density', color='teal')\n",
    "ax.set(xlabel='Fare')\n",
    "plt.xlim(-100, 400)\n",
    "plt.show()"
   ]
  },
  {
   "cell_type": "code",
   "execution_count": 19,
   "metadata": {},
   "outputs": [],
   "source": [
    "# Label encode predictors with null values\n",
    "#train_x_logi.fillna(train_x_logi[\"Fare\"].mean(skipna=True),inplace=True)\n",
    "test_x_logi.fillna(test_x_logi[\"Fare\"].mean(skipna=True), inplace=True)\n",
    "    \n",
    "train_x_logi[\"Age\"].fillna(train[\"Age\"].median(skipna=True), inplace=True)\n",
    "test_x_logi[\"Age\"].fillna(test[\"Age\"].median(skipna=True), inplace=True)"
   ]
  },
  {
   "cell_type": "code",
   "execution_count": 20,
   "metadata": {},
   "outputs": [],
   "source": [
    "sp.stats.skew(train_x_logi[\"Fare\"], axis=0, bias=True) \n",
    "# Apply log transformation on \"Fare\" since it is slightly skewed\n",
    "train_x_logi[\"Fare\"] = np.log1p(train_x_logi[\"Fare\"])\n",
    "test_x_logi[\"Fare\"] = np.log1p(test_x_logi[\"Fare\"])"
   ]
  },
  {
   "cell_type": "code",
   "execution_count": 21,
   "metadata": {},
   "outputs": [
    {
     "data": {
      "text/plain": [
       "0.39426283638993376"
      ]
     },
     "execution_count": 21,
     "metadata": {},
     "output_type": "execute_result"
    }
   ],
   "source": [
    "sp.stats.skew(train_x_logi[\"Fare\"], axis=0, bias=True) "
   ]
  },
  {
   "cell_type": "markdown",
   "metadata": {},
   "source": [
    "## Ensemble from XGBClassifier Model and Logistic Regression Model"
   ]
  },
  {
   "cell_type": "code",
   "execution_count": 22,
   "metadata": {},
   "outputs": [],
   "source": [
    "# Ensemble\n",
    "model_lr = LogisticRegression(solver='lbfgs', max_iter=300)\n",
    "model_lr.fit(train_x_logi, train_y)\n",
    "pred_lr = model_lr.predict_proba(test_x_logi)[:, 1]\n",
    "\n",
    "pred_ensem = pred * 0.8 + pred_lr * 0.2\n",
    "pred_label_ensem = np.where(pred > 0.5, 1, 0)"
   ]
  },
  {
   "cell_type": "markdown",
   "metadata": {},
   "source": [
    "## Submission"
   ]
  },
  {
   "cell_type": "code",
   "execution_count": null,
   "metadata": {},
   "outputs": [],
   "source": [
    "submission = pd.DataFrame({'PassengerId': test['PassengerId'], 'Survived': pred_label_ensem})\n",
    "submission.to_csv('submission.csv', index=False)"
   ]
  }
 ],
 "metadata": {
  "kernelspec": {
   "display_name": "Python 3",
   "language": "python",
   "name": "python3"
  },
  "language_info": {
   "codemirror_mode": {
    "name": "ipython",
    "version": 3
   },
   "file_extension": ".py",
   "mimetype": "text/x-python",
   "name": "python",
   "nbconvert_exporter": "python",
   "pygments_lexer": "ipython3",
   "version": "3.7.3"
  }
 },
 "nbformat": 4,
 "nbformat_minor": 4
}
